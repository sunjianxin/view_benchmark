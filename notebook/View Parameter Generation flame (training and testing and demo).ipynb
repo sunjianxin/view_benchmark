{
 "cells": [
  {
   "cell_type": "code",
   "execution_count": 1,
   "id": "a623afbd",
   "metadata": {},
   "outputs": [],
   "source": [
    "import math\n",
    "import numpy as np\n",
    "from tqdm import tqdm\n",
    "# from fiblat import sphere_lattice, cube_lattice\n",
    "\n",
    "%matplotlib qt"
   ]
  },
  {
   "cell_type": "markdown",
   "id": "6f348d1a",
   "metadata": {},
   "source": [
    "# Load the fibonacci lattice"
   ]
  },
  {
   "cell_type": "code",
   "execution_count": 2,
   "id": "807aec5f",
   "metadata": {},
   "outputs": [],
   "source": [
    "# sphere = np.load('sphere_100.npy')\n",
    "sphere = np.load('sphere_2000.npy')"
   ]
  },
  {
   "cell_type": "code",
   "execution_count": 3,
   "id": "e798c73f",
   "metadata": {},
   "outputs": [],
   "source": [
    "# visualize fibonacci lattice sphere\n",
    "import matplotlib.pyplot as plt\n",
    "from mpl_toolkits import mplot3d\n",
    " \n",
    "# creating an empty canvas\n",
    "fig = plt.figure()\n",
    "ax = plt.axes(projection=\"3d\")\n",
    "ax.set_aspect('equal')\n",
    "ax.scatter3D(sphere[:, 0], sphere[:, 1], sphere[:, 2]);\n",
    " \n",
    "# Showing the above plot\n",
    "plt.show()"
   ]
  },
  {
   "cell_type": "code",
   "execution_count": 4,
   "id": "a5edc95f",
   "metadata": {
    "scrolled": false
   },
   "outputs": [
    {
     "name": "stdout",
     "output_type": "stream",
     "text": [
      "radius of fibonacci lattice sphere:  1.0\n"
     ]
    }
   ],
   "source": [
    "print(\"radius of fibonacci lattice sphere: \", sphere[0, 0]**2+sphere[0, 1]**2+sphere[0, 2]**2)"
   ]
  },
  {
   "cell_type": "code",
   "execution_count": 10,
   "id": "1df33b88",
   "metadata": {},
   "outputs": [
    {
     "name": "stdout",
     "output_type": "stream",
     "text": [
      "point num after crop: 602\n"
     ]
    }
   ],
   "source": [
    "# crop the top and bottom data where no future inferences will be done in those reigons\n",
    "x = sphere[:, 0]\n",
    "y = sphere[:, 1]\n",
    "z = sphere[:, 2]\n",
    "\n",
    "crop_threshold_up = 0\n",
    "crop_threshold_down = -0.6\n",
    "\n",
    "x_crop = []\n",
    "y_crop = []\n",
    "z_crop = []\n",
    "for i in range(2000):\n",
    "    if (y[i] < crop_threshold_up and y[i] > crop_threshold_down):\n",
    "        x_crop.append(x[i])\n",
    "        y_crop.append(y[i])\n",
    "        z_crop.append(z[i])\n",
    "\n",
    "ray_size = len(x_crop)\n",
    "print(\"point num after crop:\", ray_size)"
   ]
  },
  {
   "cell_type": "code",
   "execution_count": 11,
   "id": "8dd906f7",
   "metadata": {},
   "outputs": [],
   "source": [
    "# visualize fibonacci lattice sphere\n",
    "import matplotlib.pyplot as plt\n",
    "from mpl_toolkits import mplot3d\n",
    " \n",
    "# creating an empty canvas\n",
    "fig = plt.figure()\n",
    "ax = plt.axes(projection=\"3d\")\n",
    "ax.set_xlim(-1, 1)\n",
    "ax.set_ylim(-1, 1)\n",
    "ax.set_zlim(-1, 1)\n",
    "ax.set_aspect('equal', adjustable='box')\n",
    "ax.scatter3D(x_crop, y_crop, z_crop);\n",
    " \n",
    "# Showing the above plot\n",
    "plt.show()"
   ]
  },
  {
   "cell_type": "markdown",
   "id": "513c13d9",
   "metadata": {},
   "source": [
    "# 1. Create views for training"
   ]
  },
  {
   "cell_type": "code",
   "execution_count": 12,
   "id": "37910dfd",
   "metadata": {},
   "outputs": [
    {
     "name": "stdout",
     "output_type": "stream",
     "text": [
      "r_min for each block: 220.83647796503186\n",
      "r_max for each block: 772.9276728776115\n"
     ]
    }
   ],
   "source": [
    "volume_dimension = 255\n",
    "block_dimension = volume_dimension\n",
    "r_min = math.sqrt((block_dimension/2)**2 + (block_dimension/2)**2 + (block_dimension/2)**2)\n",
    "r_max = 3.5*math.sqrt((volume_dimension/2)**2 + (volume_dimension/2)**2 + (volume_dimension/2)**2)\n",
    "print(\"r_min for each block:\", r_min)\n",
    "print(\"r_max for each block:\", r_max)"
   ]
  },
  {
   "cell_type": "code",
   "execution_count": 13,
   "id": "9f9870cb",
   "metadata": {},
   "outputs": [],
   "source": [
    "# create the views tensor for the demo trajectory\n",
    "\n",
    "views = np.zeros((1, ray_size, 1, 1, 9)) # 9: 3 of camera position; 3 of focal point; 3 of up view\n",
    "for j in range(ray_size):\n",
    "    camera_position = np.array([x_crop[j]*r_max, y_crop[j]*r_max, z_crop[j]*r_max])\n",
    "    views[0, j, 0, 0, 0:3] = camera_position\n",
    "    views[0, j, 0, 0, 3:6] = np.array([0, 0, 0])\n",
    "    views[0, j, 0, 0, 6:9] = np.array([0, -1, 0])"
   ]
  },
  {
   "cell_type": "code",
   "execution_count": 14,
   "id": "fab319d4",
   "metadata": {},
   "outputs": [
    {
     "data": {
      "text/plain": [
       "Text(0.5, 0, 'Z')"
      ]
     },
     "execution_count": 14,
     "metadata": {},
     "output_type": "execute_result"
    }
   ],
   "source": [
    "# Visualizing the views data (micro-block and rays)\n",
    "import matplotlib.pyplot as plt\n",
    "from mpl_toolkits.mplot3d import Axes3D\n",
    "\n",
    "# Define the data points for the 3D line\n",
    "colors = ['blue', 'red', 'green']\n",
    "\n",
    "# Create a new figure and add a 3D subplot\n",
    "fig = plt.figure()\n",
    "ax = fig.add_subplot(111, projection='3d')\n",
    "\n",
    "select = 0\n",
    "\n",
    "for i in range(1):\n",
    "# for i in range(27):\n",
    "    for j in range(ray_size):\n",
    "        xs = []\n",
    "        ys = []\n",
    "        zs = []\n",
    "#         for k in range(sample_size):\n",
    "        for k in range(1):\n",
    "    #         for l in range(up_size):\n",
    "            xs.append(views[i, j, k, 0, 0])\n",
    "            ys.append(views[i, j, k, 0, 1])\n",
    "            zs.append(views[i, j, k, 0, 2])\n",
    "    #         y = [views[0, j, k, 0, 4]]\n",
    "    #         z = [views[0, j, k, 0, 5]]\n",
    "    #         x = [views[0, i, 0, j, 3], views[0, i, 0, j, 6]]\n",
    "    #         y = [views[0, i, 0, j, 4], views[0, i, 0, j, 7]]\n",
    "    #         z = [views[0, i, 0, j, 5], views[0, i, 0, j, 8]]\n",
    "        ax.plot(xs, ys, zs, marker='o', label='3D Line')\n",
    "\n",
    "ax.set_xlim(-800, 800)\n",
    "ax.set_ylim(-800, 800)\n",
    "ax.set_zlim(-800, 800)\n",
    "    \n",
    "ax.set_aspect('equal', adjustable='box')\n",
    "ax.set_xlabel('X')\n",
    "ax.set_ylabel('Y')\n",
    "ax.set_zlabel('Z')"
   ]
  },
  {
   "cell_type": "code",
   "execution_count": 15,
   "id": "dc467b5a",
   "metadata": {},
   "outputs": [
    {
     "data": {
      "text/plain": [
       "Text(0.5, 0, 'Z')"
      ]
     },
     "execution_count": 15,
     "metadata": {},
     "output_type": "execute_result"
    }
   ],
   "source": [
    "# Visualizing the views data (up directions)\n",
    "import matplotlib.pyplot as plt\n",
    "from mpl_toolkits.mplot3d import Axes3D\n",
    "\n",
    "# Create a new figure and add a 3D subplot\n",
    "fig = plt.figure()\n",
    "ax = fig.add_subplot(111, projection='3d')\n",
    "\n",
    "# for i in range(block_size):\n",
    "for i in range(1):\n",
    "    for j in range(ray_size):\n",
    "#         for k in range(sample_size):\n",
    "        for k in range(1):\n",
    "            for l in range(1):\n",
    "                xs = [views[i, j, k, l, 0], views[i, j, k, l, 0] + views[i, j, k, l, 6]*100]\n",
    "                ys = [views[i, j, k, l, 1], views[i, j, k, l, 1] + views[i, j, k, l, 7]*100]\n",
    "                zs = [views[i, j, k, l, 2], views[i, j, k, l, 2] + views[i, j, k, l, 8]*100]\n",
    "#                 print(\"=======\")\n",
    "#                 print(x)\n",
    "#                 print(y)\n",
    "#                 print(z)\n",
    "#                 print(math.sqrt(views[i, j, k, l, 6]**2 + views[i, j, k, l, 7]**2 + views[i, j, k, l, 8]**2))\n",
    "#                 ax.plot(x, y, z, marker='o', label='3D Line')\n",
    "                ax.plot(xs, ys, zs, label='3D Line')\n",
    "\n",
    "ax.set_xlim(-800, 800)\n",
    "ax.set_ylim(-800, 800)\n",
    "ax.set_zlim(-800, 800)\n",
    "    \n",
    "ax.set_aspect('equal', adjustable='box')\n",
    "ax.set_xlabel('X')\n",
    "ax.set_ylabel('Y')\n",
    "ax.set_zlabel('Z')"
   ]
  },
  {
   "cell_type": "markdown",
   "id": "e7e5ffa7",
   "metadata": {},
   "source": [
    "# 2. Create views for testing (demo)"
   ]
  },
  {
   "cell_type": "code",
   "execution_count": 16,
   "id": "7bbe58e9",
   "metadata": {},
   "outputs": [],
   "source": [
    "demo_point_num = 120"
   ]
  },
  {
   "cell_type": "code",
   "execution_count": 19,
   "id": "8aafd2fa",
   "metadata": {},
   "outputs": [
    {
     "data": {
      "text/plain": [
       "120"
      ]
     },
     "execution_count": 19,
     "metadata": {},
     "output_type": "execute_result"
    }
   ],
   "source": [
    "len(theta)"
   ]
  },
  {
   "cell_type": "code",
   "execution_count": 24,
   "id": "d617edd7",
   "metadata": {},
   "outputs": [],
   "source": [
    "# sine circle\n",
    "import numpy as np\n",
    "import matplotlib.pyplot as plt\n",
    "from mpl_toolkits.mplot3d import Axes3D\n",
    "\n",
    "# Parameters\n",
    "radius = 1\n",
    "amplitude = 0.3  # Amplitude of the sine wave\n",
    "frequency = 4    # Frequency of the sine wave\n",
    "\n",
    "# Generate an array of angles for the latitude (phi) and longitude (theta)\n",
    "theta = np.linspace(0, 2 * np.pi, demo_point_num)  # Longitude from 0 to 2*pi\n",
    "# phi = amplitude * np.sin(frequency * theta)    # Latitude varies with a sine wave\n",
    "phi = [-np.pi/10]*demo_point_num\n",
    "\n",
    "# Convert spherical coordinates to Cartesian coordinates\n",
    "demo_x = radius * np.cos(phi) * np.cos(theta)\n",
    "demo_z = radius * np.cos(phi) * np.sin(theta)\n",
    "demo_y = radius * np.sin(phi)\n",
    "\n",
    "# Optional: plot the sine wave projected on the sphere\n",
    "fig = plt.figure()\n",
    "ax = fig.add_subplot(111, projection='3d')\n",
    "ax.plot(demo_x, demo_y, demo_z, label='Sine wave on 3D sphere')\n",
    "ax.set_xlabel('X')\n",
    "ax.set_ylabel('Y')\n",
    "ax.set_zlabel('Z')\n",
    "ax.legend()\n",
    "\n",
    "# Plotting the sphere for reference\n",
    "u = np.linspace(0, 2 * np.pi, 100)\n",
    "v = np.linspace(0, np.pi, 100)\n",
    "x_sphere = radius * np.outer(np.cos(u), np.sin(v))\n",
    "y_sphere = radius * np.outer(np.sin(u), np.sin(v))\n",
    "z_sphere = radius * np.outer(np.ones(np.size(u)), np.cos(v))\n",
    "\n",
    "ax.plot_surface(x_sphere, y_sphere, z_sphere, color='b', alpha=0.3)\n",
    "\n",
    "plt.show()"
   ]
  },
  {
   "cell_type": "code",
   "execution_count": 25,
   "id": "27e0f5ac",
   "metadata": {},
   "outputs": [],
   "source": [
    "# create the views tensor for the demo trajectory\n",
    "demo_views = np.zeros((1, demo_point_num, 1, 1, 9)) # 9: 3 of camera position; 3 of focal point; 3 of up view\n",
    "for j in range(demo_point_num):\n",
    "    camera_position = np.array([demo_x[j]*r_max, demo_y[j]*r_max, demo_z[j]*r_max])\n",
    "    demo_views[0, j, 0, 0, 0:3] = camera_position\n",
    "    demo_views[0, j, 0, 0, 3:6] = np.array([0, 0, 0])\n",
    "    demo_views[0, j, 0, 0, 6:9] = np.array([0, -1, 0])"
   ]
  },
  {
   "cell_type": "code",
   "execution_count": 26,
   "id": "dac757f9",
   "metadata": {},
   "outputs": [
    {
     "data": {
      "text/plain": [
       "Text(0.5, 0, 'Z')"
      ]
     },
     "execution_count": 26,
     "metadata": {},
     "output_type": "execute_result"
    }
   ],
   "source": [
    "# Visualizing the views data (micro-block and rays)\n",
    "import matplotlib.pyplot as plt\n",
    "from mpl_toolkits.mplot3d import Axes3D\n",
    "\n",
    "# Define the data points for the 3D line\n",
    "colors = ['blue', 'red', 'green']\n",
    "\n",
    "# Create a new figure and add a 3D subplot\n",
    "fig = plt.figure()\n",
    "ax = fig.add_subplot(111, projection='3d')\n",
    "\n",
    "select = 0\n",
    "\n",
    "for i in range(1):\n",
    "# for i in range(27):\n",
    "    for j in range(ray_size):\n",
    "        x = []\n",
    "        y = []\n",
    "        z = []\n",
    "#         for k in range(sample_size):\n",
    "        for k in range(1):\n",
    "    #         for l in range(up_size):\n",
    "            x.append(views[i, j, k, 0, 0])\n",
    "            y.append(views[i, j, k, 0, 1])\n",
    "            z.append(views[i, j, k, 0, 2])\n",
    "    #         y = [views[0, j, k, 0, 4]]\n",
    "    #         z = [views[0, j, k, 0, 5]]\n",
    "    #         x = [views[0, i, 0, j, 3], views[0, i, 0, j, 6]]\n",
    "    #         y = [views[0, i, 0, j, 4], views[0, i, 0, j, 7]]\n",
    "    #         z = [views[0, i, 0, j, 5], views[0, i, 0, j, 8]]\n",
    "        ax.plot(x, y, z, marker='o', label='3D Line', color='r')\n",
    "\n",
    "for j in range(demo_point_num):\n",
    "    x = []\n",
    "    y = []\n",
    "    z = []\n",
    "    x.append(demo_views[0, j, 0, 0, 0])\n",
    "    y.append(demo_views[0, j, 0, 0, 1])\n",
    "    z.append(demo_views[0, j, 0, 0, 2])\n",
    "    ax.plot(x, y, z, marker='*', label='3D Line', color='g')\n",
    "    \n",
    "\n",
    "ax.set_xlim(-800, 800)\n",
    "ax.set_ylim(-800, 800)\n",
    "ax.set_zlim(-800, 800)\n",
    "    \n",
    "ax.set_aspect('equal', adjustable='box')\n",
    "ax.set_xlabel('X')\n",
    "ax.set_ylabel('Y')\n",
    "ax.set_zlabel('Z')"
   ]
  },
  {
   "cell_type": "code",
   "execution_count": 27,
   "id": "a3acf5fc",
   "metadata": {},
   "outputs": [
    {
     "data": {
      "text/plain": [
       "Text(0.5, 0, 'Z')"
      ]
     },
     "execution_count": 27,
     "metadata": {},
     "output_type": "execute_result"
    }
   ],
   "source": [
    "# Visualizing the views data (up directions)\n",
    "import matplotlib.pyplot as plt\n",
    "from mpl_toolkits.mplot3d import Axes3D\n",
    "\n",
    "# Create a new figure and add a 3D subplot\n",
    "fig = plt.figure()\n",
    "ax = fig.add_subplot(111, projection='3d')\n",
    "\n",
    "# for i in range(block_size):\n",
    "for i in range(1):\n",
    "    for j in range(ray_size):\n",
    "#         for k in range(sample_size):\n",
    "        for k in range(1):\n",
    "            for l in range(1):\n",
    "                xs = [views[i, j, k, l, 0], views[i, j, k, l, 0] + views[i, j, k, l, 6]*100]\n",
    "                ys = [views[i, j, k, l, 1], views[i, j, k, l, 1] + views[i, j, k, l, 7]*100]\n",
    "                zs = [views[i, j, k, l, 2], views[i, j, k, l, 2] + views[i, j, k, l, 8]*100]\n",
    "#                 print(\"=======\")\n",
    "#                 print(x)\n",
    "#                 print(y)\n",
    "#                 print(z)\n",
    "#                 print(math.sqrt(views[i, j, k, l, 6]**2 + views[i, j, k, l, 7]**2 + views[i, j, k, l, 8]**2))\n",
    "#                 ax.plot(x, y, z, marker='o', label='3D Line')\n",
    "                ax.plot(xs, ys, zs, label='3D Line', color='r')\n",
    "    \n",
    "for j in range(demo_point_num):\n",
    "    xs = [demo_views[0, j, 0, 0, 0], demo_views[0, j, 0, 0, 0] + demo_views[0, j, 0, 0, 6]*100]\n",
    "    ys = [demo_views[0, j, 0, 0, 1], demo_views[0, j, 0, 0, 1] + demo_views[0, j, 0, 0, 7]*100]\n",
    "    zs = [demo_views[0, j, 0, 0, 2], demo_views[0, j, 0, 0, 2] + demo_views[0, j, 0, 0, 8]*100]\n",
    "    ax.plot(xs, ys, zs, label='3D Line', color='g')\n",
    "\n",
    "ax.set_xlim(-800, 800)\n",
    "ax.set_ylim(-800, 800)\n",
    "ax.set_zlim(-800, 800)\n",
    "    \n",
    "ax.set_aspect('equal', adjustable='box')\n",
    "ax.set_xlabel('X')\n",
    "ax.set_ylabel('Y')\n",
    "ax.set_zlabel('Z')"
   ]
  },
  {
   "cell_type": "markdown",
   "id": "5636dcca",
   "metadata": {},
   "source": [
    "# 3 Save training and testing (demo) views"
   ]
  },
  {
   "cell_type": "code",
   "execution_count": 28,
   "id": "c0355daf",
   "metadata": {},
   "outputs": [
    {
     "name": "stdout",
     "output_type": "stream",
     "text": [
      "View tensor has been saved as trainviews_1_602_1_1_flame.bin\n"
     ]
    }
   ],
   "source": [
    "binary_view_name = 'trainviews_' +\\\n",
    "                    str(1) + \"_\" +\\\n",
    "                    str(ray_size) + \"_\" +\\\n",
    "                    str(1) + \"_\" +\\\n",
    "                    str(1) + \"_flame.bin\"\n",
    "# Save the array as a binary float32 file\n",
    "views.tofile(binary_view_name)\n",
    "print(\"View tensor has been saved as \" + binary_view_name)\n",
    "\n",
    "\n",
    "np.save('trainviews_' +\\\n",
    "        str(1) + \"_\" +\\\n",
    "        str(ray_size) + \"_\" +\\\n",
    "        str(1) + \"_\" +\\\n",
    "        str(1) + \"_flame.npy\",\\\n",
    "        views)"
   ]
  },
  {
   "cell_type": "code",
   "execution_count": 29,
   "id": "340002e2",
   "metadata": {},
   "outputs": [
    {
     "name": "stdout",
     "output_type": "stream",
     "text": [
      "View tensor has been saved as testviews_1_120_1_1_flame.bin\n"
     ]
    }
   ],
   "source": [
    "binary_view_name = 'testviews_' +\\\n",
    "                    str(1) + \"_\" +\\\n",
    "                    str(demo_point_num) + \"_\" +\\\n",
    "                    str(1) + \"_\" +\\\n",
    "                    str(1) + \"_flame.bin\"\n",
    "# Save the array as a binary float32 file\n",
    "demo_views.tofile(binary_view_name)\n",
    "print(\"View tensor has been saved as \" + binary_view_name)\n",
    "\n",
    "np.save('testviews_' +\\\n",
    "        str(1) + \"_\" +\\\n",
    "        str(demo_point_num) + \"_\" +\\\n",
    "        str(1) + \"_\" +\\\n",
    "        str(1) + \"_flame.npy\",\\\n",
    "        demo_views)"
   ]
  },
  {
   "cell_type": "code",
   "execution_count": null,
   "id": "dda495c2",
   "metadata": {},
   "outputs": [],
   "source": []
  }
 ],
 "metadata": {
  "kernelspec": {
   "display_name": "Python 3 (ipykernel)",
   "language": "python",
   "name": "python3"
  },
  "language_info": {
   "codemirror_mode": {
    "name": "ipython",
    "version": 3
   },
   "file_extension": ".py",
   "mimetype": "text/x-python",
   "name": "python",
   "nbconvert_exporter": "python",
   "pygments_lexer": "ipython3",
   "version": "3.7.3"
  }
 },
 "nbformat": 4,
 "nbformat_minor": 5
}
